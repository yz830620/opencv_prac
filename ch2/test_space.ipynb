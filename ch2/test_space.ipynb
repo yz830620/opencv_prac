{
 "cells": [
  {
   "cell_type": "code",
   "execution_count": 5,
   "metadata": {},
   "outputs": [],
   "source": [
    "import cv2 \n",
    "\n",
    "videoCapture = cv2.VideoCapture(0)\n",
    "fps = 30 # an assumtion\n",
    "size = (int(videoCapture.get(cv2.CAP_PROP_FRAME_WIDTH)),\n",
    "        int(videoCapture.get(cv2.CAP_PROP_FRAME_HEIGHT)))\n",
    "videoWriter = cv2.VideoWriter(\"../output_video/Myface.avi\", cv2.VideoWriter_fourcc('I', '4', '2', '0'), fps, size)\n",
    "\n",
    "success, frame = videoCapture.read()\n",
    "numFrameRemaining = 10 * fps - 1\n",
    "\n",
    "while success and numFrameRemaining > 0: # Loop until there are no more frames.\n",
    "    videoWriter.write(frame)\n",
    "    success, frame = videoCapture.read()\n",
    "    numFrameRemaining -= 1\n",
    "\n",
    "videoCapture.release()\n",
    "videoWriter.release()\n",
    "cv2.destroyAllWindows()"
   ]
  }
 ],
 "metadata": {
  "interpreter": {
   "hash": "fc7fb2a0dcd8e8993a40ec0e200c63337ae4084d3c54c40b15481d8cd6124813"
  },
  "kernelspec": {
   "display_name": "Python 3.7.10 64-bit ('tf21g': conda)",
   "language": "python",
   "name": "python3"
  },
  "language_info": {
   "codemirror_mode": {
    "name": "ipython",
    "version": 3
   },
   "file_extension": ".py",
   "mimetype": "text/x-python",
   "name": "python",
   "nbconvert_exporter": "python",
   "pygments_lexer": "ipython3",
   "version": "3.7.10"
  },
  "orig_nbformat": 4
 },
 "nbformat": 4,
 "nbformat_minor": 2
}
